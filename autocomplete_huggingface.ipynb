{
  "nbformat": 4,
  "nbformat_minor": 0,
  "metadata": {
    "colab": {
      "provenance": [],
      "gpuType": "T4"
    },
    "kernelspec": {
      "name": "python3",
      "display_name": "Python 3"
    },
    "language_info": {
      "name": "python"
    },
    "accelerator": "GPU"
  },
  "cells": [
    {
      "cell_type": "code",
      "source": [
        "from transformers import pipeline\n",
        "import warnings\n",
        "warnings.filterwarnings(\"ignore\")\n",
        "\n",
        "model_tag = \"pszemraj/opt-350m-email-generation\"\n",
        "generator = pipeline(\n",
        "              'text-generation',\n",
        "              model=model_tag,\n",
        "              use_fast=False,\n",
        "              do_sample=False,\n",
        "              early_stopping=True,\n",
        "            )\n",
        "\n",
        "prompt = \"My arm is broken so I should\"\n",
        "\n",
        "output = generator(\n",
        "    prompt,\n",
        "    max_length=10,\n",
        "    truncation=True\n",
        ") # generate\n",
        "\n",
        "print(output[0]['generated_text'])"
      ],
      "metadata": {
        "colab": {
          "base_uri": "https://localhost:8080/"
        },
        "id": "hSGdO8XZmfx0",
        "outputId": "8260cfd5-3b20-42e6-df0a-5afc02a99c6e"
      },
      "execution_count": 10,
      "outputs": [
        {
          "output_type": "stream",
          "name": "stdout",
          "text": [
            "My arm is broken so I should be out of\n"
          ]
        }
      ]
    },
    {
      "cell_type": "code",
      "source": [],
      "metadata": {
        "id": "mxUQAE9T-NpC"
      },
      "execution_count": null,
      "outputs": []
    }
  ]
}